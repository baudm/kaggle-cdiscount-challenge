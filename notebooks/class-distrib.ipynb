{
 "cells": [
  {
   "cell_type": "code",
   "execution_count": null,
   "metadata": {},
   "outputs": [],
   "source": [
    "# Cdiscount's Image Classification Challenge\n",
    "\n",
    "## Table of Contents\n",
    "1. Background\n",
    " 1. [Dataset](#Dataset)\n",
    " 2. [Generation of patches and perturbations](#Generation-of-patches-and-perturbations)\n",
    " 3. [Training data preparation](#Training-data-preparation)\n",
    "2. Methodology\n",
    "2. Model Implementation\n",
    " 1. [Training](#Training)\n",
    "3. Experiments\n",
    " 1. [A better model based on the MobileNet architecture](#A-better-model-based-on-the-MobileNet-architecture)\n",
    " 2. [Visualization of predictions](#Visualization-of-predictions)"
   ]
  },
  {
   "cell_type": "code",
   "execution_count": 10,
   "metadata": {},
   "outputs": [],
   "source": [
    "import matplotlib.pyplot as plt\n",
    "%matplotlib inline\n",
    "%load_ext autoreload\n",
    "%autoreload 2"
   ]
  },
  {
   "cell_type": "code",
   "execution_count": 3,
   "metadata": {},
   "outputs": [],
   "source": [
    "import json\n",
    "with open('../sample-distribution.json', 'r') as f:\n",
    "    stats = json.load(f)"
   ]
  },
  {
   "cell_type": "code",
   "execution_count": 5,
   "metadata": {},
   "outputs": [],
   "source": [
    "import seaborn as sns\n",
    "sns.set(color_codes=True)"
   ]
  },
  {
   "cell_type": "markdown",
   "metadata": {},
   "source": [
    "## Background\n",
    "The [Cdiscount image classification challenge](https://www.kaggle.com/c/cdiscount-image-classification-challenge) is a competition hosted by kaggle for Cdiscount.com, the largest non-food e-commerce site in France.\n",
    "\n",
    "The challenge requires participants to classify around 9 million different products into more than 5,000 categories. The main difference with this and other image classification problems is that products within a category may differ substantially with each other, compared to typical image classification problems wherein samples from a single class have more similar overall structures (e.g. dog faces).\n",
    "\n",
    "### Dataset\n",
    "\n",
    "The dataset consists of 12,371,293 image examples spread across 5,270 categories. On average, there should be 2,347 images per category. However, there is actually a great imbalance across classes, and only a few hundred contain the bulk of training examples. On the other hand, majority of the classes have less than 1,000 training examples as seen in the figure below:"
   ]
  },
  {
   "cell_type": "code",
   "execution_count": 11,
   "metadata": {},
   "outputs": [
    {
     "name": "stdout",
     "output_type": "stream",
     "text": [
      "[-1.78462496 -0.6657112   0.10999956  0.16619716  0.39950541  0.5089963\n",
      "  0.88606279  0.92476958  1.18405805  1.35695373]\n"
     ]
    }
   ],
   "source": [
    "import numpy as np\n",
    "x = np.random.normal(size=10)\n",
    "x.sort()\n",
    "print(x)"
   ]
  },
  {
   "cell_type": "code",
   "execution_count": 15,
   "metadata": {},
   "outputs": [
    {
     "name": "stdout",
     "output_type": "stream",
     "text": [
      "5270 12371293\n"
     ]
    },
    {
     "data": {
      "text/plain": [
       "<matplotlib.axes._subplots.AxesSubplot at 0x7f68607c97b8>"
      ]
     },
     "execution_count": 15,
     "metadata": {},
     "output_type": "execute_result"
    },
    {
     "data": {
      "image/png": "[encoded data removed]",
      "text/plain": [
       "<matplotlib.figure.Figure at 0x7f68607cdc88>"
      ]
     },
     "metadata": {},
     "output_type": "display_data"
    }
   ],
   "source": [
    "l = np.array(list(stats.values()))\n",
    "b = l#[l>= 5000]\n",
    "print(len(b), sum(b))\n",
    "plt.figure(figsize=(10,5))\n",
    "plt.ylabel('Number of categories')\n",
    "plt.xlabel('Number of training examples')\n",
    "plt.title('Distribution of Training Examples')\n",
    "sns.distplot(b, kde=False)"
   ]
  },
  {
   "cell_type": "markdown",
   "metadata": {},
   "source": [
    "## Methodology\n",
    "\n",
    "### Transfer Learning\n",
    "Due to the insufficiency of the training data (many classes have less than 100 examples), using it to train a randomly-initialized model will be very hard; convergence might take more than a couple of months with the limited hardware available.\n",
    "\n",
    "Analysis of convolutional networks revealed that the filters near the bottom (i.e. at the input), have high activations on edges, lines, primitives, etc. And the higher the filters are in the network, the more they respond to more complex structures (e.g. whole face). In other words, the lower-level convolutional filters are more general-purpose than the higher-level ones.\n",
    "\n",
    "In fact, the filters learned by CNNs are more general-purpose than initially thought. That is, a CNN originally trained for classification can also be used, with a little fine-tuning, in a segmentation task, for example.\n",
    "\n",
    "In this project, transfer learning is used to bootstrap the training process instead of starting with random weights.\n",
    "\n",
    "### Addressing the class imbalance\n",
    "A couple of boosting methods were tried to address the class imbalance issue.\n",
    "\n",
    "One is by using data augmentation to boost the number of training examples (if needed) to around 1,200 per class. For instance, if a class only has 100 examples, then each example will be augmented to produce 12 derivative images, which would result to 100 x 12 = 1,200 training images in total. The augmentation is done on-the-fly in order to generate infinitely many training examples while still being space efficient.\n",
    "\n",
    "The other is by boosting the penalty or loss for misclassifications. This is implemented by multiplying the misclassification loss by a factor of 1200/N, where N is the number of training examples for that class. Doing so gives more 'weight' to classes with the lower number of training examples.\n",
    "\n",
    "The boosting methods described above were applied separately.\n",
    "\n",
    "### Faster training by caching CNN features\n",
    "One epoch of training easily takes about 14 hours on a single GTX 1080 card, even with the layers of the base model being frozen. To drastically improve the training time, the whole training data is fed to the base Xception model, and the CNN features were cached into Numpy archives. This pretraining step enables us to rapidly train the classifier subnetwork by totally eliminating the CNN overhead during training. With this training optimization, one epoch takes just around 25 minutes.\n",
    "\n"
   ]
  },
  {
   "cell_type": "code",
   "execution_count": null,
   "metadata": {},
   "outputs": [],
   "source": []
  }
 ],
 "metadata": {
  "kernelspec": {
   "display_name": "Python 3",
   "language": "python",
   "name": "python3"
  },
  "language_info": {
   "codemirror_mode": {
    "name": "ipython",
    "version": 3
   },
   "file_extension": ".py",
   "mimetype": "text/x-python",
   "name": "python",
   "nbconvert_exporter": "python",
   "pygments_lexer": "ipython3",
   "version": "3.6.3"
  }
 },
 "nbformat": 4,
 "nbformat_minor": 2
}
